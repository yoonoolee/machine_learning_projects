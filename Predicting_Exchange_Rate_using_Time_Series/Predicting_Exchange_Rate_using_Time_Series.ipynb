{
 "cells": [
  {
   "cell_type": "markdown",
   "metadata": {},
   "source": [
    "<h1>\n",
    "<center>Predicting Exchange Rate using Time Series</center>\n",
    "</h1>\n",
    "\n",
    "<h1>\n",
    "<center>Avery Lee</center>\n",
    "</h1>"
   ]
  },
  {
   "cell_type": "markdown",
   "metadata": {},
   "source": [
    "# Predicting Exchange Rate using Time Series\n",
    "\n",
    "Obtain daily values of the [Japan/U.S. Foreign Exchange Rate (DEXJPUS)](https://fred.stlouisfed.org/series/DEXJPUS) starting from Jan 1, 1990, to Jan 1, 2022, from FRED. "
   ]
  },
  {
   "cell_type": "code",
   "execution_count": null,
   "metadata": {},
   "outputs": [],
   "source": [
    "import pandas as pd\n",
    "import numpy as np \n",
    "import pandas_datareader as pdr\n",
    "from datetime import datetime\n",
    "data = pdr.get_data_fred('DEXJPUS', datetime(1990,1,1),datetime(2022,1,1))\n",
    "data = data.dropna()"
   ]
  },
  {
   "cell_type": "markdown",
   "metadata": {},
   "source": [
    "Create a training set (before 2010), a validation set (Jan 2010 to Dec 2015), and a test set (the rest of the data). Turn the time series data into a supervised learning dataset where the features are the value of the exchange rate in the last 10 days inclusive of the current day, and the target is the value of the exchange rate in the next day."
   ]
  },
  {
   "cell_type": "code",
   "execution_count": null,
   "metadata": {},
   "outputs": [],
   "source": [
    "# make big supervised learning dataset \n",
    "def concat_rows_into_one(rows):\n",
    "    rows_list = [rows.iloc[i] for i in range(len(rows))]\n",
    "    return pd.concat(rows_list, ignore_index=True)\n",
    "\n",
    "def ts_split(ts, feature_steps, target_steps):\n",
    "    n_obs = len(ts) - feature_steps - target_steps + 1\n",
    "    X = np.array([concat_rows_into_one(ts[idx:idx+feature_steps]) for idx in range(n_obs)])\n",
    "    y = np.array([ts.iloc[idx+feature_steps : idx+feature_steps+target_steps] for idx in range(n_obs)])\n",
    "    return X, y\n",
    "\n",
    "X, y = ts_split(data, feature_steps=10, target_steps=1) # lag 10, predict 1 step ahead value \n",
    "\n",
    "# split \n",
    "index_train_end = np.where(data.index==\"2009-12-31\")[0][0]+1\n",
    "index_valid_start = np.where(data.index==\"2010-1-4\")[0][0]\n",
    "index_valid_end = np.where(data.index=='2015-12-31')[0][0]+1\n",
    "index_test_start = np.where(data.index=='2016-01-04')[0][0]\n",
    "\n",
    "X_train = X[:index_train_end]\n",
    "X_valid = X[index_valid_start:index_valid_end]\n",
    "X_test = X[index_test_start:]\n",
    "\n",
    "y_train = y[:index_train_end]\n",
    "y_valid = y[index_valid_start:index_valid_end]\n",
    "y_test = y[index_test_start:]"
   ]
  },
  {
   "cell_type": "code",
   "execution_count": null,
   "metadata": {},
   "outputs": [
    {
     "data": {
      "text/plain": [
       "((5033, 10), (1504, 10), (1487, 10), (5033, 1, 1), (1504, 1, 1), (1487, 1, 1))"
      ]
     },
     "metadata": {},
     "output_type": "display_data"
    }
   ],
   "source": [
    "X_train.shape, X_valid.shape, X_test.shape, y_train.shape, y_valid.shape, y_test.shape"
   ]
  },
  {
   "cell_type": "markdown",
   "metadata": {},
   "source": [
    "Fit a random forest regressor to predict the value of the exchange rate in the next day. Using the test set, report the mean squared error and the accuracy for the movement direction.\n",
    "\n",
    "We can calculate the accuracy of the movement direction by determining what the actual movement direction is and comparing it to the movement direction corresponding to the predicted value of the exchange rate. "
   ]
  },
  {
   "cell_type": "code",
   "execution_count": null,
   "metadata": {},
   "outputs": [
    {
     "name": "stdout",
     "output_type": "stream",
     "text": [
      "MSE: 0.37566460849360955, Movement Accuracy: 0.5110961667787491\n"
     ]
    }
   ],
   "source": [
    "from sklearn.ensemble import RandomForestRegressor\n",
    "from sklearn.model_selection import TimeSeriesSplit\n",
    "from sklearn.metrics import mean_squared_error\n",
    "from sklearn.metrics import accuracy_score\n",
    "\n",
    "model_rf = RandomForestRegressor(random_state=42)\n",
    "model_rf.fit(X_train, y_train.ravel())\n",
    "y_test_pred_rf = model_rf.predict(X_test)\n",
    "movement_test_actual = X_test[:,-1] < y_test.ravel() # did exchange rate increase actually? \n",
    "movement_test_pred = X_test[:,-1] < y_test_pred_rf.ravel() # did exchange rate increase in prediction? \n",
    "\n",
    "# MSE and movement accuracy \n",
    "rf_mse = mean_squared_error(y_test[:,:,0], y_test_pred_rf)\n",
    "rf_mov_acc = accuracy_score(movement_test_actual, movement_test_pred)\n",
    "\n",
    "print(f'MSE: {rf_mse}, Movement Accuracy: {rf_mov_acc}')"
   ]
  },
  {
   "cell_type": "markdown",
   "metadata": {},
   "source": [
    "Now fit a deep RNN with 2 recurrent layers of 20 and 20 neurons, and an output layer which is 1 dense neuron. Use 100 epochs and the Nadam optimizer. "
   ]
  },
  {
   "cell_type": "markdown",
   "metadata": {},
   "source": [
    "Comparing this to the random forest above, this has higher MSE and slightly less movement accuracy (but not too big of a difference). The learning curve shows that the validation loss starts to increase around 30, but around 65 it quickly goes back down to similar values of the training error. "
   ]
  },
  {
   "cell_type": "code",
   "execution_count": null,
   "metadata": {},
   "outputs": [],
   "source": [
    "import tensorflow.keras as keras\n",
    "import tensorflow as tf\n",
    "import random as python_random\n",
    "import matplotlib.pyplot as plt\n",
    "\n",
    "def reset_session(seed=42):\n",
    "    tf.random.set_seed(seed)\n",
    "    python_random.seed(seed)\n",
    "    np.random.seed(seed)\n",
    "    tf.keras.backend.clear_session()\n",
    "\n",
    "reset_session()\n",
    "\n",
    "rnn_model = keras.models.Sequential([\n",
    "    keras.layers.SimpleRNN(20, return_sequences=True, input_shape=[None,1]),\n",
    "    keras.layers.SimpleRNN(20),\n",
    "    keras.layers.Dense(1)\n",
    "])\n",
    "\n",
    "rnn_model.compile(loss=\"mse\", optimizer=\"nadam\")\n",
    "\n",
    "rnn_run = rnn_model.fit(X_train[..., np.newaxis], y_train, epochs=100,\n",
    "                validation_data=(X_valid[..., np.newaxis], y_valid), verbose=0)"
   ]
  },
  {
   "cell_type": "code",
   "execution_count": null,
   "metadata": {},
   "outputs": [
    {
     "name": "stdout",
     "output_type": "stream",
     "text": [
      "MSE: 1.0793435103732263, Movement Accuracy: 0.5063887020847344\n"
     ]
    }
   ],
   "source": [
    "# MSE\n",
    "# rnn_mse = rnn_model.evaluate(X_valid, y_valid)\n",
    "y_test_pred_rnn1 = rnn_model.predict(X_test)\n",
    "rnn_mse = mean_squared_error(y_test[:,:,0], y_test_pred_rnn1)\n",
    "\n",
    "# movement accuracy \n",
    "movement_test_actual = X_test[:,-1] < y_test.ravel() # did exchange rate increase actually? \n",
    "movement_test_pred = X_test[:,-1] < y_test_pred_rnn1.ravel() # did exchange rate increase in prediction? \n",
    "\n",
    "rnn_mse = mean_squared_error(y_test[:,:,0], y_test_pred_rnn1)\n",
    "rnn_mov_acc = accuracy_score(movement_test_actual, movement_test_pred)\n",
    "\n",
    "print(f'MSE: {rnn_mse}, Movement Accuracy: {rnn_mov_acc}')"
   ]
  },
  {
   "cell_type": "code",
   "execution_count": null,
   "metadata": {},
   "outputs": [
    {
     "data": {
      "image/png": "[encoded data removed]",
      "text/plain": [
       "<Figure size 576x360 with 1 Axes>"
      ]
     },
     "metadata": {},
     "output_type": "display_data"
    }
   ],
   "source": [
    "rnn_df = pd.DataFrame(rnn_run.history)\n",
    "rnn_df.plot(figsize=(8, 5))\n",
    "plt.grid(True)\n",
    "plt.show()"
   ]
  },
  {
   "cell_type": "markdown",
   "metadata": {},
   "source": [
    "Create a supervised learning dataset suitable for predicting 3 days ahead instead of 1 day ahead. Adjust the deep RNN above so that it predicts 3 days ahead. Use 100 epochs and the Nadam optimizer. Using the test set, report the mean squared error and the accuracy for the movement direction for each of the 3 days ahead predictions. "
   ]
  },
  {
   "cell_type": "markdown",
   "metadata": {},
   "source": [
    "Comparing the results to the above model, there is generally higher MSE is this one. The movement accuracy is very slightly lower for the 1 day ahead, but is slightly higher for the 2 and 3 day aheads. The learning curve is very similar to the one above as well where the validation loss starts to increase around 30, but around 65 it quickly goes back down to similar values of the training error. "
   ]
  },
  {
   "cell_type": "code",
   "execution_count": null,
   "metadata": {},
   "outputs": [],
   "source": [
    "X_3ahead, y_3ahead = ts_split(data, feature_steps=10, target_steps=3) # lag 10, predict 3 step ahead value \n",
    "\n",
    "X_train_3ahead = X_3ahead[:index_train_end]\n",
    "X_valid_3ahead = X_3ahead[index_valid_start:index_valid_end]\n",
    "X_test_3ahead = X_3ahead[index_test_start:]\n",
    "\n",
    "y_train_3ahead = y_3ahead[:index_train_end]\n",
    "y_valid_3ahead = y_3ahead[index_valid_start:index_valid_end]\n",
    "y_test_3ahead = y_3ahead[index_test_start:]"
   ]
  },
  {
   "cell_type": "code",
   "execution_count": null,
   "metadata": {},
   "outputs": [
    {
     "data": {
      "text/plain": [
       "((5033, 10), (1504, 10), (1485, 10), (5033, 3, 1), (1504, 3, 1), (1485, 3, 1))"
      ]
     },
     "metadata": {},
     "output_type": "display_data"
    }
   ],
   "source": [
    "X_train_3ahead.shape, X_valid_3ahead.shape, X_test_3ahead.shape, y_train_3ahead.shape, y_valid_3ahead.shape, y_test_3ahead.shape"
   ]
  },
  {
   "cell_type": "code",
   "execution_count": null,
   "metadata": {},
   "outputs": [],
   "source": [
    "reset_session()\n",
    "\n",
    "rnn_model_3ahead = keras.models.Sequential([\n",
    "    keras.layers.SimpleRNN(20, return_sequences=True, input_shape=[None,1]),\n",
    "    keras.layers.SimpleRNN(20),\n",
    "    keras.layers.Dense(3)\n",
    "])\n",
    "\n",
    "rnn_model_3ahead.compile(loss=\"mse\", optimizer=\"nadam\")\n",
    "\n",
    "rnn_run_3ahead = rnn_model_3ahead.fit(X_train_3ahead[..., np.newaxis], y_train_3ahead, epochs=100,\n",
    "                        validation_data=(X_valid_3ahead[..., np.newaxis], y_valid_3ahead), verbose=0)"
   ]
  },
  {
   "cell_type": "code",
   "execution_count": null,
   "metadata": {},
   "outputs": [
    {
     "name": "stdout",
     "output_type": "stream",
     "text": [
      "MSE: [1.09320834 1.38987481 1.7815235 ], \n",
      " Movement Accuracy (1, 2, 3 ahead): (0.5057239057239057, 0.5104377104377105, 0.5131313131313131)\n"
     ]
    }
   ],
   "source": [
    "# predict \n",
    "y_test_pred_rnn = rnn_model_3ahead.predict(X_test_3ahead)\n",
    "\n",
    "# MSE\n",
    "rnn3_mse = mean_squared_error(y_test_3ahead[:,:,0], y_test_pred_rnn, multioutput='raw_values')\n",
    "\n",
    "# movement accuracy \n",
    "def movement_acc(step_ahead):\n",
    "    step_ahead -= 1\n",
    "    movement_test_actual = X_test_3ahead[:,-1] < y_test_3ahead[:,step_ahead].ravel() # did exchange rate increase actually? \n",
    "    movement_test_pred = X_test_3ahead[:,-1] < y_test_pred_rnn[:,step_ahead].ravel() # did exchange rate increase in prediction? \n",
    "    movement_accuracy = accuracy_score(movement_test_actual, movement_test_pred)\n",
    "    return movement_accuracy\n",
    "\n",
    "# 1 day ahead \n",
    "move_acc1 = movement_acc(1)\n",
    "# 2 days ahead \n",
    "move_acc2 = movement_acc(2)\n",
    "# 3 days ahead \n",
    "move_acc3 = movement_acc(3)\n",
    "\n",
    "print(f'MSE: {rnn3_mse}, \\n Movement Accuracy (1, 2, 3 ahead): {move_acc1, move_acc2, move_acc3}')"
   ]
  },
  {
   "cell_type": "code",
   "execution_count": null,
   "metadata": {},
   "outputs": [
    {
     "data": {
      "text/plain": [
       "(1485, 10)"
      ]
     },
     "metadata": {},
     "output_type": "display_data"
    }
   ],
   "source": [
    "X_test_3ahead.shape"
   ]
  },
  {
   "cell_type": "code",
   "execution_count": null,
   "metadata": {},
   "outputs": [
    {
     "data": {
      "image/png": "[encoded data removed]",
      "text/plain": [
       "<Figure size 576x360 with 1 Axes>"
      ]
     },
     "metadata": {},
     "output_type": "display_data"
    }
   ],
   "source": [
    "rnn_df_3ahead = pd.DataFrame(rnn_run_3ahead.history)\n",
    "rnn_df_3ahead.plot(figsize=(8, 5))\n",
    "plt.grid(True)\n",
    "plt.show()"
   ]
  }
 ],
 "metadata": {
  "language_info": {
   "name": "python"
  }
 },
 "nbformat": 4,
 "nbformat_minor": 2
}
