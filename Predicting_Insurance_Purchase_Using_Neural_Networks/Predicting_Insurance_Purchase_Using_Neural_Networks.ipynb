{
 "cells": [
  {
   "cell_type": "markdown",
   "metadata": {},
   "source": [
    "<h1>\n",
    "<center>Predicting Insurance Purchase using Neural Networks</center>\n",
    "</h1>\n",
    "\n",
    "<h1>\n",
    "<center>Avery Lee</center>\n",
    "</h1>"
   ]
  },
  {
   "cell_type": "markdown",
   "metadata": {},
   "source": [
    "# Binary classification DNN (Deep Neural Networks)\n",
    "\n",
    "Consider the [Caravan insurance data](https://liacs.leidenuniv.nl/~puttenpwhvander/library/cc2000/). The data gives sociodemographic and product ownership data from customers of an insurance company, some of which purchased caravan insurance. \n",
    "\n",
    "The target variable is `Purchase`, which is binary so should be converted to 1 for `Yes` and 0 for `No`."
   ]
  },
  {
   "cell_type": "markdown",
   "metadata": {},
   "source": [
    "Load, split and preprocess the data. In particular, for the splitting, you will need to create a test set (20% of the full data), a validation set (20% of the remaining data after creating the test set), and a training set, and stratify using the target variable because this is an imbalanced dataset. The features `MOSTYPE` and `MOSHOOFD` are categorical so one hot encoding needs to be applied to them. All other features are numerical so a standard scaler needs to be applied to them. "
   ]
  },
  {
   "cell_type": "code",
   "execution_count": null,
   "metadata": {},
   "outputs": [],
   "source": [
    "import pandas as pd\n",
    "from sklearn.model_selection import StratifiedShuffleSplit\n",
    "from sklearn.pipeline import Pipeline\n",
    "from sklearn.compose import ColumnTransformer\n",
    "from sklearn.preprocessing import StandardScaler, OneHotEncoder\n",
    "\n",
    "# load \n",
    "caravan = pd.read_csv('caravan.csv')\n",
    "\n",
    "# target variable (yes/no --> 1/0)\n",
    "caravan['Purchase'].replace(('Yes', 'No'), (1, 0), inplace=True)\n",
    "\n",
    "# split - 64% train, 16% val, 20% test\n",
    "split = StratifiedShuffleSplit(n_splits=1, test_size=0.2, random_state=42)\n",
    "for train_index, test_index in split.split(caravan, caravan[\"Purchase\"]):\n",
    "    strat_train_set = caravan.loc[train_index]\n",
    "    strat_test_set = caravan.loc[test_index]\n",
    "    \n",
    "# Split the traning set into training and validation    \n",
    "split2 = StratifiedShuffleSplit(n_splits=1, test_size=0.2, random_state=42)\n",
    "for train_index2, valid_index in split2.split(strat_train_set, strat_train_set[\"Purchase\"]):\n",
    "    strat_train2_set = strat_train_set.iloc[train_index2]\n",
    "    strat_valid_set = strat_train_set.iloc[valid_index]\n",
    "\n",
    "# preprocess \n",
    "strat_train_set = strat_train2_set.copy()\n",
    "strat_valid_set = strat_valid_set.copy()\n",
    "strat_test_set = strat_test_set.copy()\n",
    "\n",
    "X_raw = strat_train_set.copy().drop(\"Purchase\", axis=1)\n",
    "y_train = strat_train_set[\"Purchase\"].copy()\n",
    "\n",
    "num_pipeline = Pipeline([\n",
    "        ('std_scaler', StandardScaler()),\n",
    "    ])\n",
    "num_features = X_raw.drop(\"MOSTYPE\", axis=1).drop('MOSHOOFD', axis=1)\n",
    "num_attribs = list(num_features)\n",
    "cat_attribs = [\"MOSTYPE\", 'MOSHOOFD']\n",
    "full_pipeline = ColumnTransformer([\n",
    "        (\"num\", num_pipeline, num_attribs),\n",
    "        (\"cat\", OneHotEncoder(), cat_attribs),\n",
    "    ])\n",
    "\n",
    "# Apply the pipeline to the training set\n",
    "X_train = full_pipeline.fit_transform(X_raw)\n",
    "\n",
    "# Apply the pipeline to the validation set\n",
    "X_valid_raw = strat_valid_set.drop(\"Purchase\", axis=1)\n",
    "y_valid = strat_valid_set[\"Purchase\"].copy()\n",
    "X_valid = full_pipeline.transform(X_valid_raw)\n",
    "\n",
    "# Apply the pipeline to the validation set\n",
    "X_test_raw = strat_test_set.drop(\"Purchase\", axis=1)\n",
    "y_test = strat_test_set[\"Purchase\"].copy()\n",
    "X_test = full_pipeline.transform(X_test_raw)"
   ]
  },
  {
   "cell_type": "code",
   "execution_count": null,
   "metadata": {},
   "outputs": [
    {
     "data": {
      "text/plain": [
       "((3725, 133), (932, 133), (1165, 133))"
      ]
     },
     "metadata": {},
     "output_type": "display_data"
    }
   ],
   "source": [
    "X_train.shape, X_valid.shape, X_test.shape"
   ]
  },
  {
   "cell_type": "code",
   "execution_count": null,
   "metadata": {},
   "outputs": [
    {
     "data": {
      "text/plain": [
       "((3725,), (932,), (1165,))"
      ]
     },
     "metadata": {},
     "output_type": "display_data"
    }
   ],
   "source": [
    "y_train.shape, y_valid.shape, y_test.shape"
   ]
  },
  {
   "cell_type": "code",
   "execution_count": null,
   "metadata": {},
   "outputs": [
    {
     "name": "stdout",
     "output_type": "stream",
     "text": [
      "[[-0.26920841  0.40025864  0.00630108 ...  0.          0.\n",
      "   0.        ]\n",
      " [-0.26920841 -0.87080994  1.24164497 ...  0.          0.\n",
      "   0.        ]\n",
      " [-0.26920841 -0.87080994  0.00630108 ...  1.          0.\n",
      "   0.        ]\n",
      " ...\n",
      " [-0.26920841  1.67132722  0.00630108 ...  0.          0.\n",
      "   0.        ]\n",
      " [-0.26920841  0.40025864 -1.2290428  ...  0.          0.\n",
      "   0.        ]\n",
      " [-0.26920841  0.40025864  0.00630108 ...  1.          0.\n",
      "   0.        ]]\n"
     ]
    }
   ],
   "source": [
    "print(X_train)"
   ]
  },
  {
   "cell_type": "code",
   "execution_count": null,
   "metadata": {},
   "outputs": [
    {
     "name": "stdout",
     "output_type": "stream",
     "text": [
      "5356    0\n",
      "2968    0\n",
      "1180    0\n",
      "5182    0\n",
      "2623    0\n",
      "       ..\n",
      "219     0\n",
      "1701    0\n",
      "5360    0\n",
      "978     0\n",
      "4062    0\n",
      "Name: Purchase, Length: 3725, dtype: int64\n"
     ]
    }
   ],
   "source": [
    "print(y_train)"
   ]
  },
  {
   "cell_type": "markdown",
   "metadata": {},
   "source": [
    "Now let's build and fit a DNN with 5 hidden layers of 200, 200, 100, 100, 50 neurons, respectively. Specifications:\n",
    "\n",
    "(i) He initialization and the ELU activation function. ELU ensures sign matching with the input's sign and doesn't have zero gradient. So it solves problems from ReLU like the vanishing gradients and leaky-ReLU. We want to use HE initialization for ELU to ensure optimal variance.\n",
    "\n",
    "(ii) The output layer has 1 neuron with sigmoid activation. Since we are doing binary classification instead of multiple classes, we can do 1 output neuron. And sigmoid is often used for binary classification since it is smooth.\n",
    "\n",
    "(iii) Compile with `loss=\"binary_crossentropy\"` and  `metrics=[\"AUC\"]` (which is ROC AUC). For binary classification, you often use the binary_crossentropy loss function. The AUC will get the area under the curve which is a classification metric for its accuracy so this is appropriate for binary classification. "
   ]
  },
  {
   "cell_type": "markdown",
   "metadata": {},
   "source": [
    "Train the model for 30 epochs and use exponential scheduling and the NAG optimizer with `momentum=0.9`. We can use a learning curve to see if it is overfitting; it does seem to be overfitting since we see the validation error increase more and more while the training error decreases more and more. The gap between the two keeps increasing so it is likely there is overfitting happening. "
   ]
  },
  {
   "cell_type": "code",
   "execution_count": null,
   "metadata": {},
   "outputs": [],
   "source": [
    "import random as python_random\n",
    "import tensorflow as tf\n",
    "import numpy as np\n",
    "from tensorflow.keras import Sequential, layers\n",
    "import tensorflow.keras as keras\n",
    "import matplotlib.pyplot as plt\n",
    "\n",
    "def reset_session(seed=42):\n",
    "    tf.random.set_seed(seed)\n",
    "    python_random.seed(seed)\n",
    "    np.random.seed(seed)\n",
    "    tf.keras.backend.clear_session()\n",
    "\n",
    "def exponential_decay(lr0, s):\n",
    "    return lambda epoch: lr0 * 0.1**(epoch / s)"
   ]
  },
  {
   "cell_type": "code",
   "execution_count": null,
   "metadata": {},
   "outputs": [],
   "source": [
    "reset_session()\n",
    "\n",
    "bc_model = Sequential([\n",
    "    layers.Flatten(input_shape=X_train.shape[1:]),\n",
    "    layers.Dense(200, activation=\"elu\", kernel_initializer='he_normal'),\n",
    "    layers.Dense(200, activation=\"elu\", kernel_initializer='he_normal'),\n",
    "    layers.Dense(100, activation=\"elu\", kernel_initializer='he_normal'),\n",
    "    layers.Dense(100, activation=\"elu\", kernel_initializer='he_normal'),\n",
    "    layers.Dense(50, activation=\"elu\", kernel_initializer='he_normal'),\n",
    "    layers.Dense(1, activation='sigmoid')\n",
    "])\n",
    "\n",
    "optimizer = keras.optimizers.SGD(momentum=0.9, nesterov=True)\n",
    "\n",
    "bc_model.compile(loss='binary_crossentropy',\n",
    "                 metrics=['AUC'],\n",
    "                 optimizer=optimizer)\n",
    "\n",
    "lr_scheduler = keras.callbacks.LearningRateScheduler(exponential_decay(lr0=0.01,s=20))\n",
    "\n",
    "run = bc_model.fit(X_train, y_train, epochs=30, verbose=0,\n",
    "                   validation_data=(X_valid, y_valid),\n",
    "                   callbacks=[lr_scheduler])"
   ]
  },
  {
   "cell_type": "code",
   "execution_count": null,
   "metadata": {},
   "outputs": [
    {
     "data": {
      "image/png": "[encoded data removed]",
      "text/plain": [
       "<Figure size 576x360 with 1 Axes>"
      ]
     },
     "metadata": {},
     "output_type": "display_data"
    }
   ],
   "source": [
    "bc_df = pd.DataFrame(run.history)\n",
    "bc_df.plot(figsize=(8, 5))\n",
    "plt.grid(True)\n",
    "plt.show()"
   ]
  },
  {
   "cell_type": "markdown",
   "metadata": {},
   "source": [
    "Fit separate models using the same specification as above but with the following regularization techniques:\n",
    "\n",
    "(i) batch normalization,\n",
    "\n",
    "(ii) early stopping based on validation AUC with `patience=10` (look at the documentation and note the `mode` argument).\n",
    "\n",
    "(iii) $\\ell_2$ regularization with `l2=0.001`,\n",
    "\n",
    "(iv) dropout with probability 0.2,\n",
    "\n",
    "(v) $\\ell_2$ regularization and early stopping both as above,\n",
    "\n",
    "(vi) batch normalization and dropout both as above.\n",
    "\n",
    "At the start of each one of the above models, run `reset_session()`.\n",
    "\n",
    "The performance measure is validation AUC. "
   ]
  },
  {
   "cell_type": "markdown",
   "metadata": {},
   "source": [
    "Based on the results given below, (ii), (iii), (iv) (v), (vi) have better validation AUC than the above model and (i) has worse validation AUC than the above model."
   ]
  },
  {
   "cell_type": "code",
   "execution_count": null,
   "metadata": {},
   "outputs": [],
   "source": [
    "# batch normalization \n",
    "reset_session()\n",
    "\n",
    "bc_model_i = Sequential([\n",
    "    layers.Flatten(input_shape=X_train.shape[1:]),\n",
    "    layers.BatchNormalization(),\n",
    "    layers.Dense(200, activation=\"elu\", kernel_initializer='he_normal'),\n",
    "    layers.BatchNormalization(),\n",
    "    layers.Dense(200, activation=\"elu\", kernel_initializer='he_normal'),\n",
    "    layers.BatchNormalization(),\n",
    "    layers.Dense(100, activation=\"elu\", kernel_initializer='he_normal'),\n",
    "    layers.BatchNormalization(),\n",
    "    layers.Dense(100, activation=\"elu\", kernel_initializer='he_normal'),\n",
    "    layers.BatchNormalization(),\n",
    "    layers.Dense(50, activation=\"elu\", kernel_initializer='he_normal'),\n",
    "    layers.BatchNormalization(),\n",
    "    layers.Dense(1, activation='sigmoid')\n",
    "])\n",
    "\n",
    "optimizer = keras.optimizers.SGD(momentum=0.9, nesterov=True)\n",
    "\n",
    "bc_model_i.compile(loss='binary_crossentropy',\n",
    "                   metrics=['AUC'],\n",
    "                   optimizer=optimizer)\n",
    "\n",
    "lr_scheduler = keras.callbacks.LearningRateScheduler(exponential_decay(lr0=0.01,s=20))\n",
    "\n",
    "run_i = bc_model_i.fit(X_train, y_train, epochs=30, verbose=0,\n",
    "                       validation_data=(X_valid, y_valid),\n",
    "                       callbacks=[lr_scheduler])"
   ]
  },
  {
   "cell_type": "code",
   "execution_count": null,
   "metadata": {},
   "outputs": [],
   "source": [
    "# early stoppping \n",
    "reset_session()\n",
    "\n",
    "bc_model_ii = Sequential([\n",
    "    layers.Flatten(input_shape=X_train.shape[1:]),\n",
    "    layers.Dense(200, activation=\"elu\", kernel_initializer='he_normal'),\n",
    "    layers.Dense(200, activation=\"elu\", kernel_initializer='he_normal'),\n",
    "    layers.Dense(100, activation=\"elu\", kernel_initializer='he_normal'),\n",
    "    layers.Dense(100, activation=\"elu\", kernel_initializer='he_normal'),\n",
    "    layers.Dense(50, activation=\"elu\", kernel_initializer='he_normal'),\n",
    "    layers.Dense(1, activation='sigmoid')\n",
    "])\n",
    "\n",
    "optimizer = keras.optimizers.SGD(momentum=0.9, nesterov=True)\n",
    "\n",
    "bc_model_ii.compile(loss='binary_crossentropy',\n",
    "                   metrics=['AUC'],\n",
    "                   optimizer=optimizer)\n",
    "\n",
    "lr_scheduler = keras.callbacks.LearningRateScheduler(exponential_decay(lr0=0.01,s=20))\n",
    "early_stopping_cb = keras.callbacks.EarlyStopping(patience=10)\n",
    "\n",
    "run_ii = bc_model_ii.fit(X_train, y_train, epochs=30, verbose=0,\n",
    "                       validation_data=(X_valid, y_valid),\n",
    "                       callbacks=[lr_scheduler, early_stopping_cb])"
   ]
  },
  {
   "cell_type": "code",
   "execution_count": null,
   "metadata": {},
   "outputs": [],
   "source": [
    "# l2=0.001\n",
    "reset_session()\n",
    "\n",
    "l2 = 0.001\n",
    "bc_model_iii = Sequential([\n",
    "    layers.Flatten(input_shape=X_train.shape[1:]),\n",
    "    layers.Dense(200, activation=\"elu\", kernel_initializer='he_normal', \n",
    "                 kernel_regularizer=keras.regularizers.l2(l2)),\n",
    "    layers.Dense(200, activation=\"elu\", kernel_initializer='he_normal',\n",
    "                 kernel_regularizer=keras.regularizers.l2(l2)),\n",
    "    layers.Dense(100, activation=\"elu\", kernel_initializer='he_normal',\n",
    "                 kernel_regularizer=keras.regularizers.l2(l2)),\n",
    "    layers.Dense(100, activation=\"elu\", kernel_initializer='he_normal',\n",
    "                 kernel_regularizer=keras.regularizers.l2(l2)),\n",
    "    layers.Dense(50, activation=\"elu\", kernel_initializer='he_normal',\n",
    "                 kernel_regularizer=keras.regularizers.l2(l2)),\n",
    "    layers.Dense(1, activation='sigmoid')\n",
    "])\n",
    "\n",
    "optimizer = keras.optimizers.SGD(momentum=0.9, nesterov=True)\n",
    "\n",
    "bc_model_iii.compile(loss='binary_crossentropy',\n",
    "                   metrics=['AUC'],\n",
    "                   optimizer=optimizer)\n",
    "\n",
    "lr_scheduler = keras.callbacks.LearningRateScheduler(exponential_decay(lr0=0.01,s=20))\n",
    "\n",
    "run_iii = bc_model_iii.fit(X_train, y_train, epochs=30, verbose=0,\n",
    "                       validation_data=(X_valid, y_valid),\n",
    "                       callbacks=[lr_scheduler])"
   ]
  },
  {
   "cell_type": "code",
   "execution_count": null,
   "metadata": {},
   "outputs": [],
   "source": [
    "# dropout probability=0.2\n",
    "reset_session()\n",
    "\n",
    "dropoutp = 0.2\n",
    "bc_model_iv = Sequential([\n",
    "    layers.Flatten(input_shape=X_train.shape[1:]),\n",
    "    layers.Dropout(rate=dropoutp),\n",
    "    layers.Dense(200, activation=\"elu\", kernel_initializer='he_normal'),\n",
    "    layers.Dropout(rate=dropoutp),\n",
    "    layers.Dense(200, activation=\"elu\", kernel_initializer='he_normal'),\n",
    "    layers.Dropout(rate=dropoutp),\n",
    "    layers.Dense(100, activation=\"elu\", kernel_initializer='he_normal'),\n",
    "    layers.Dropout(rate=dropoutp),\n",
    "    layers.Dense(100, activation=\"elu\", kernel_initializer='he_normal'),\n",
    "    layers.Dropout(rate=dropoutp),\n",
    "    layers.Dense(50, activation=\"elu\", kernel_initializer='he_normal'),\n",
    "    layers.Dropout(rate=dropoutp),\n",
    "    layers.Dense(1, activation='sigmoid')\n",
    "])\n",
    "\n",
    "optimizer = keras.optimizers.SGD(momentum=0.9, nesterov=True)\n",
    "\n",
    "bc_model_iv.compile(loss='binary_crossentropy',\n",
    "                   metrics=['AUC'],\n",
    "                   optimizer=optimizer)\n",
    "\n",
    "lr_scheduler = keras.callbacks.LearningRateScheduler(exponential_decay(lr0=0.01,s=20))\n",
    "\n",
    "run_iv = bc_model_iv.fit(X_train, y_train, epochs=30, verbose=0,\n",
    "                       validation_data=(X_valid, y_valid),\n",
    "                       callbacks=[lr_scheduler])"
   ]
  },
  {
   "cell_type": "code",
   "execution_count": null,
   "metadata": {},
   "outputs": [],
   "source": [
    "# l2=0.001 & early stopping \n",
    "reset_session()\n",
    "\n",
    "l2 = 0.001\n",
    "bc_model_v = Sequential([\n",
    "    layers.Flatten(input_shape=X_train.shape[1:]),\n",
    "    layers.Dense(200, activation=\"elu\", kernel_initializer='he_normal', \n",
    "                 kernel_regularizer=keras.regularizers.l2(l2)),\n",
    "    layers.Dense(200, activation=\"elu\", kernel_initializer='he_normal',\n",
    "                 kernel_regularizer=keras.regularizers.l2(l2)),\n",
    "    layers.Dense(100, activation=\"elu\", kernel_initializer='he_normal',\n",
    "                 kernel_regularizer=keras.regularizers.l2(l2)),\n",
    "    layers.Dense(100, activation=\"elu\", kernel_initializer='he_normal',\n",
    "                 kernel_regularizer=keras.regularizers.l2(l2)),\n",
    "    layers.Dense(50, activation=\"elu\", kernel_initializer='he_normal',\n",
    "                 kernel_regularizer=keras.regularizers.l2(l2)),\n",
    "    layers.Dense(1, activation='sigmoid')\n",
    "])\n",
    "\n",
    "optimizer = keras.optimizers.SGD(momentum=0.9, nesterov=True)\n",
    "\n",
    "bc_model_v.compile(loss='binary_crossentropy',\n",
    "                   metrics=['AUC'],\n",
    "                   optimizer=optimizer)\n",
    "\n",
    "lr_scheduler = keras.callbacks.LearningRateScheduler(exponential_decay(lr0=0.01,s=20))\n",
    "early_stopping_cb = keras.callbacks.EarlyStopping(patience=10)\n",
    "\n",
    "run_v = bc_model_v.fit(X_train, y_train, epochs=30, verbose=0,\n",
    "                       validation_data=(X_valid, y_valid),\n",
    "                       callbacks=[lr_scheduler, early_stopping_cb])"
   ]
  },
  {
   "cell_type": "code",
   "execution_count": null,
   "metadata": {},
   "outputs": [],
   "source": [
    "# batch normamlization & dropout \n",
    "reset_session()\n",
    "\n",
    "dropoutp = 0.2\n",
    "bc_model_vi = Sequential([\n",
    "    layers.Flatten(input_shape=X_train.shape[1:]),\n",
    "    layers.BatchNormalization(),\n",
    "    layers.Dropout(rate=dropoutp),\n",
    "    layers.Dense(200, activation=\"elu\", kernel_initializer='he_normal'),\n",
    "    layers.BatchNormalization(),\n",
    "    layers.Dropout(rate=dropoutp),\n",
    "    layers.Dense(200, activation=\"elu\", kernel_initializer='he_normal'),\n",
    "    layers.BatchNormalization(),\n",
    "    layers.Dropout(rate=dropoutp),\n",
    "    layers.Dense(100, activation=\"elu\", kernel_initializer='he_normal'),\n",
    "    layers.BatchNormalization(),\n",
    "    layers.Dropout(rate=dropoutp),\n",
    "    layers.Dense(100, activation=\"elu\", kernel_initializer='he_normal'),\n",
    "    layers.BatchNormalization(),\n",
    "    layers.Dropout(rate=dropoutp),\n",
    "    layers.Dense(50, activation=\"elu\", kernel_initializer='he_normal'),\n",
    "    layers.BatchNormalization(),\n",
    "    layers.Dropout(rate=dropoutp),\n",
    "    layers.Dense(1, activation='sigmoid')\n",
    "])\n",
    "\n",
    "optimizer = keras.optimizers.SGD(momentum=0.9, nesterov=True)\n",
    "\n",
    "bc_model_vi.compile(loss='binary_crossentropy',\n",
    "                   metrics=['AUC'],\n",
    "                   optimizer=optimizer)\n",
    "\n",
    "lr_scheduler = keras.callbacks.LearningRateScheduler(exponential_decay(lr0=0.01,s=20))\n",
    "\n",
    "run_vi = bc_model_vi.fit(X_train, y_train, epochs=30, verbose=0,\n",
    "                       validation_data=(X_valid, y_valid),\n",
    "                       callbacks=[lr_scheduler])"
   ]
  },
  {
   "cell_type": "code",
   "execution_count": null,
   "metadata": {},
   "outputs": [
    {
     "name": "stdout",
     "output_type": "stream",
     "text": [
      "30/30 [==============================] - 0s 3ms/step - loss: 0.3924 - auc: 0.6590\n",
      "30/30 [==============================] - 0s 3ms/step - loss: 0.3294 - auc: 0.6282\n",
      "30/30 [==============================] - 0s 3ms/step - loss: 0.2943 - auc: 0.6669\n",
      "30/30 [==============================] - 0s 2ms/step - loss: 1.1939 - auc: 0.6700\n",
      "30/30 [==============================] - 0s 3ms/step - loss: 0.2200 - auc: 0.6928\n",
      "30/30 [==============================] - 0s 2ms/step - loss: 1.1939 - auc: 0.6700\n",
      "30/30 [==============================] - 0s 3ms/step - loss: 0.2174 - auc: 0.6830\n",
      "AUC    0.692841\n",
      "Name: Dropout, dtype: float64\n"
     ]
    },
    {
     "data": {
      "text/html": [
       "\n",
       "  <div id=\"df-ed0b0d66-4db3-4884-babc-1ab643a82606\">\n",
       "    <div class=\"colab-df-container\">\n",
       "      <div>\n",
       "<style scoped>\n",
       "    .dataframe tbody tr th:only-of-type {\n",
       "        vertical-align: middle;\n",
       "    }\n",
       "\n",
       "    .dataframe tbody tr th {\n",
       "        vertical-align: top;\n",
       "    }\n",
       "\n",
       "    .dataframe thead th {\n",
       "        text-align: right;\n",
       "    }\n",
       "</style>\n",
       "<table border=\"1\" class=\"dataframe\">\n",
       "  <thead>\n",
       "    <tr style=\"text-align: right;\">\n",
       "      <th></th>\n",
       "      <th>AUC</th>\n",
       "    </tr>\n",
       "  </thead>\n",
       "  <tbody>\n",
       "    <tr>\n",
       "      <th>Default</th>\n",
       "      <td>0.658971</td>\n",
       "    </tr>\n",
       "    <tr>\n",
       "      <th>BN</th>\n",
       "      <td>0.628231</td>\n",
       "    </tr>\n",
       "    <tr>\n",
       "      <th>Early Stop</th>\n",
       "      <td>0.666860</td>\n",
       "    </tr>\n",
       "    <tr>\n",
       "      <th>L2</th>\n",
       "      <td>0.669989</td>\n",
       "    </tr>\n",
       "    <tr>\n",
       "      <th>Dropout</th>\n",
       "      <td>0.692841</td>\n",
       "    </tr>\n",
       "    <tr>\n",
       "      <th>L2 + Early Stop</th>\n",
       "      <td>0.669989</td>\n",
       "    </tr>\n",
       "    <tr>\n",
       "      <th>BN + Dropout</th>\n",
       "      <td>0.682954</td>\n",
       "    </tr>\n",
       "  </tbody>\n",
       "</table>\n",
       "</div>\n",
       "      <button class=\"colab-df-convert\" onclick=\"convertToInteractive('df-ed0b0d66-4db3-4884-babc-1ab643a82606')\"\n",
       "              title=\"Convert this dataframe to an interactive table.\"\n",
       "              style=\"display:none;\">\n",
       "        \n",
       "  <svg xmlns=\"http://www.w3.org/2000/svg\" height=\"24px\"viewBox=\"0 0 24 24\"\n",
       "       width=\"24px\">\n",
       "    <path d=\"M0 0h24v24H0V0z\" fill=\"none\"/>\n",
       "    <path d=\"M18.56 5.44l.94 2.06.94-2.06 2.06-.94-2.06-.94-.94-2.06-.94 2.06-2.06.94zm-11 1L8.5 8.5l.94-2.06 2.06-.94-2.06-.94L8.5 2.5l-.94 2.06-2.06.94zm10 10l.94 2.06.94-2.06 2.06-.94-2.06-.94-.94-2.06-.94 2.06-2.06.94z\"/><path d=\"M17.41 7.96l-1.37-1.37c-.4-.4-.92-.59-1.43-.59-.52 0-1.04.2-1.43.59L10.3 9.45l-7.72 7.72c-.78.78-.78 2.05 0 2.83L4 21.41c.39.39.9.59 1.41.59.51 0 1.02-.2 1.41-.59l7.78-7.78 2.81-2.81c.8-.78.8-2.07 0-2.86zM5.41 20L4 18.59l7.72-7.72 1.47 1.35L5.41 20z\"/>\n",
       "  </svg>\n",
       "      </button>\n",
       "      \n",
       "  <style>\n",
       "    .colab-df-container {\n",
       "      display:flex;\n",
       "      flex-wrap:wrap;\n",
       "      gap: 12px;\n",
       "    }\n",
       "\n",
       "    .colab-df-convert {\n",
       "      background-color: #E8F0FE;\n",
       "      border: none;\n",
       "      border-radius: 50%;\n",
       "      cursor: pointer;\n",
       "      display: none;\n",
       "      fill: #1967D2;\n",
       "      height: 32px;\n",
       "      padding: 0 0 0 0;\n",
       "      width: 32px;\n",
       "    }\n",
       "\n",
       "    .colab-df-convert:hover {\n",
       "      background-color: #E2EBFA;\n",
       "      box-shadow: 0px 1px 2px rgba(60, 64, 67, 0.3), 0px 1px 3px 1px rgba(60, 64, 67, 0.15);\n",
       "      fill: #174EA6;\n",
       "    }\n",
       "\n",
       "    [theme=dark] .colab-df-convert {\n",
       "      background-color: #3B4455;\n",
       "      fill: #D2E3FC;\n",
       "    }\n",
       "\n",
       "    [theme=dark] .colab-df-convert:hover {\n",
       "      background-color: #434B5C;\n",
       "      box-shadow: 0px 1px 3px 1px rgba(0, 0, 0, 0.15);\n",
       "      filter: drop-shadow(0px 1px 2px rgba(0, 0, 0, 0.3));\n",
       "      fill: #FFFFFF;\n",
       "    }\n",
       "  </style>\n",
       "\n",
       "      <script>\n",
       "        const buttonEl =\n",
       "          document.querySelector('#df-ed0b0d66-4db3-4884-babc-1ab643a82606 button.colab-df-convert');\n",
       "        buttonEl.style.display =\n",
       "          google.colab.kernel.accessAllowed ? 'block' : 'none';\n",
       "\n",
       "        async function convertToInteractive(key) {\n",
       "          const element = document.querySelector('#df-ed0b0d66-4db3-4884-babc-1ab643a82606');\n",
       "          const dataTable =\n",
       "            await google.colab.kernel.invokeFunction('convertToInteractive',\n",
       "                                                     [key], {});\n",
       "          if (!dataTable) return;\n",
       "\n",
       "          const docLinkHtml = 'Like what you see? Visit the ' +\n",
       "            '<a target=\"_blank\" href=https://colab.research.google.com/notebooks/data_table.ipynb>data table notebook</a>'\n",
       "            + ' to learn more about interactive tables.';\n",
       "          element.innerHTML = '';\n",
       "          dataTable['output_type'] = 'display_data';\n",
       "          await google.colab.output.renderOutput(dataTable, element);\n",
       "          const docLink = document.createElement('div');\n",
       "          docLink.innerHTML = docLinkHtml;\n",
       "          element.appendChild(docLink);\n",
       "        }\n",
       "      </script>\n",
       "    </div>\n",
       "  </div>\n",
       "  "
      ],
      "text/plain": [
       "                      AUC\n",
       "Default          0.658971\n",
       "BN               0.628231\n",
       "Early Stop       0.666860\n",
       "L2               0.669989\n",
       "Dropout          0.692841\n",
       "L2 + Early Stop  0.669989\n",
       "BN + Dropout     0.682954"
      ]
     },
     "metadata": {},
     "output_type": "display_data"
    }
   ],
   "source": [
    "# evaluate \n",
    "def valid_eval(model):\n",
    "    # returns the model's validation auc \n",
    "    return model.evaluate(X_valid, y_valid)[1] \n",
    "\n",
    "eval_default = valid_eval(bc_model)\n",
    "eval_i = valid_eval(bc_model_i)\n",
    "eval_ii = valid_eval(bc_model_ii)\n",
    "eval_iii = valid_eval(bc_model_iii)\n",
    "eval_iv = valid_eval(bc_model_iv)\n",
    "eval_v = valid_eval(bc_model_v)\n",
    "eval_vi = valid_eval(bc_model_vi)\n",
    "\n",
    "aucs = pd.DataFrame({'Default': [eval_default],\n",
    "                     'BN': [eval_i],\n",
    "                     'Early Stop': [eval_ii],\n",
    "                     'L2': [eval_iii],\n",
    "                     'Dropout': [eval_iv],\n",
    "                     'L2 + Early Stop': [eval_v],\n",
    "                     'BN + Dropout': [eval_vi]}, index=['AUC']).transpose()\n",
    "print(aucs.iloc[np.argmax(aucs)])\n",
    "aucs"
   ]
  },
  {
   "cell_type": "markdown",
   "metadata": {},
   "source": [
    "Based on the two plots below for the above models, it seems (iv) is overfitting less since the difference between the training and validation error is less."
   ]
  },
  {
   "cell_type": "code",
   "execution_count": null,
   "metadata": {},
   "outputs": [
    {
     "data": {
      "image/png": "[encoded data removed]",
      "text/plain": [
       "<Figure size 576x360 with 1 Axes>"
      ]
     },
     "metadata": {},
     "output_type": "display_data"
    }
   ],
   "source": [
    "# default \n",
    "bc_df.plot(figsize=(8, 5))\n",
    "plt.grid(True)\n",
    "plt.show()"
   ]
  },
  {
   "cell_type": "code",
   "execution_count": null,
   "metadata": {},
   "outputs": [
    {
     "data": {
      "image/png": "[encoded data removed]",
      "text/plain": [
       "<Figure size 576x360 with 1 Axes>"
      ]
     },
     "metadata": {},
     "output_type": "display_data"
    }
   ],
   "source": [
    "# dropout \n",
    "bc_df_iv = pd.DataFrame(run_iv.history)\n",
    "bc_df_iv.plot(figsize=(8, 5))\n",
    "plt.grid(True)\n",
    "plt.show()"
   ]
  },
  {
   "cell_type": "markdown",
   "metadata": {},
   "source": [
    "The validation (that we calculated above) and testing AUC are similar, but the testing one is slightly less than the validation. 0's are predicted well but there are quite a few false negatives and false positives. "
   ]
  },
  {
   "cell_type": "code",
   "execution_count": null,
   "metadata": {},
   "outputs": [
    {
     "name": "stdout",
     "output_type": "stream",
     "text": [
      "37/37 [==============================] - 0s 2ms/step - loss: 1.2133 - auc: 0.6121\n"
     ]
    },
    {
     "data": {
      "text/plain": [
       "0.6121461391448975"
      ]
     },
     "metadata": {},
     "output_type": "display_data"
    }
   ],
   "source": [
    "from sklearn.metrics import confusion_matrix\n",
    "\n",
    "test_auc_v = bc_model_v.evaluate(X_test, y_test)[1] \n",
    "test_auc_v"
   ]
  },
  {
   "cell_type": "code",
   "execution_count": null,
   "metadata": {},
   "outputs": [
    {
     "data": {
      "text/html": [
       "\n",
       "  <div id=\"df-8ff125de-eeb4-4514-8e93-e75d5327857e\">\n",
       "    <div class=\"colab-df-container\">\n",
       "      <div>\n",
       "<style scoped>\n",
       "    .dataframe tbody tr th:only-of-type {\n",
       "        vertical-align: middle;\n",
       "    }\n",
       "\n",
       "    .dataframe tbody tr th {\n",
       "        vertical-align: top;\n",
       "    }\n",
       "\n",
       "    .dataframe thead th {\n",
       "        text-align: right;\n",
       "    }\n",
       "</style>\n",
       "<table border=\"1\" class=\"dataframe\">\n",
       "  <thead>\n",
       "    <tr style=\"text-align: right;\">\n",
       "      <th></th>\n",
       "      <th>0</th>\n",
       "      <th>1</th>\n",
       "    </tr>\n",
       "  </thead>\n",
       "  <tbody>\n",
       "    <tr>\n",
       "      <th>0</th>\n",
       "      <td>1076</td>\n",
       "      <td>19</td>\n",
       "    </tr>\n",
       "    <tr>\n",
       "      <th>1</th>\n",
       "      <td>65</td>\n",
       "      <td>5</td>\n",
       "    </tr>\n",
       "  </tbody>\n",
       "</table>\n",
       "</div>\n",
       "      <button class=\"colab-df-convert\" onclick=\"convertToInteractive('df-8ff125de-eeb4-4514-8e93-e75d5327857e')\"\n",
       "              title=\"Convert this dataframe to an interactive table.\"\n",
       "              style=\"display:none;\">\n",
       "        \n",
       "  <svg xmlns=\"http://www.w3.org/2000/svg\" height=\"24px\"viewBox=\"0 0 24 24\"\n",
       "       width=\"24px\">\n",
       "    <path d=\"M0 0h24v24H0V0z\" fill=\"none\"/>\n",
       "    <path d=\"M18.56 5.44l.94 2.06.94-2.06 2.06-.94-2.06-.94-.94-2.06-.94 2.06-2.06.94zm-11 1L8.5 8.5l.94-2.06 2.06-.94-2.06-.94L8.5 2.5l-.94 2.06-2.06.94zm10 10l.94 2.06.94-2.06 2.06-.94-2.06-.94-.94-2.06-.94 2.06-2.06.94z\"/><path d=\"M17.41 7.96l-1.37-1.37c-.4-.4-.92-.59-1.43-.59-.52 0-1.04.2-1.43.59L10.3 9.45l-7.72 7.72c-.78.78-.78 2.05 0 2.83L4 21.41c.39.39.9.59 1.41.59.51 0 1.02-.2 1.41-.59l7.78-7.78 2.81-2.81c.8-.78.8-2.07 0-2.86zM5.41 20L4 18.59l7.72-7.72 1.47 1.35L5.41 20z\"/>\n",
       "  </svg>\n",
       "      </button>\n",
       "      \n",
       "  <style>\n",
       "    .colab-df-container {\n",
       "      display:flex;\n",
       "      flex-wrap:wrap;\n",
       "      gap: 12px;\n",
       "    }\n",
       "\n",
       "    .colab-df-convert {\n",
       "      background-color: #E8F0FE;\n",
       "      border: none;\n",
       "      border-radius: 50%;\n",
       "      cursor: pointer;\n",
       "      display: none;\n",
       "      fill: #1967D2;\n",
       "      height: 32px;\n",
       "      padding: 0 0 0 0;\n",
       "      width: 32px;\n",
       "    }\n",
       "\n",
       "    .colab-df-convert:hover {\n",
       "      background-color: #E2EBFA;\n",
       "      box-shadow: 0px 1px 2px rgba(60, 64, 67, 0.3), 0px 1px 3px 1px rgba(60, 64, 67, 0.15);\n",
       "      fill: #174EA6;\n",
       "    }\n",
       "\n",
       "    [theme=dark] .colab-df-convert {\n",
       "      background-color: #3B4455;\n",
       "      fill: #D2E3FC;\n",
       "    }\n",
       "\n",
       "    [theme=dark] .colab-df-convert:hover {\n",
       "      background-color: #434B5C;\n",
       "      box-shadow: 0px 1px 3px 1px rgba(0, 0, 0, 0.15);\n",
       "      filter: drop-shadow(0px 1px 2px rgba(0, 0, 0, 0.3));\n",
       "      fill: #FFFFFF;\n",
       "    }\n",
       "  </style>\n",
       "\n",
       "      <script>\n",
       "        const buttonEl =\n",
       "          document.querySelector('#df-8ff125de-eeb4-4514-8e93-e75d5327857e button.colab-df-convert');\n",
       "        buttonEl.style.display =\n",
       "          google.colab.kernel.accessAllowed ? 'block' : 'none';\n",
       "\n",
       "        async function convertToInteractive(key) {\n",
       "          const element = document.querySelector('#df-8ff125de-eeb4-4514-8e93-e75d5327857e');\n",
       "          const dataTable =\n",
       "            await google.colab.kernel.invokeFunction('convertToInteractive',\n",
       "                                                     [key], {});\n",
       "          if (!dataTable) return;\n",
       "\n",
       "          const docLinkHtml = 'Like what you see? Visit the ' +\n",
       "            '<a target=\"_blank\" href=https://colab.research.google.com/notebooks/data_table.ipynb>data table notebook</a>'\n",
       "            + ' to learn more about interactive tables.';\n",
       "          element.innerHTML = '';\n",
       "          dataTable['output_type'] = 'display_data';\n",
       "          await google.colab.output.renderOutput(dataTable, element);\n",
       "          const docLink = document.createElement('div');\n",
       "          docLink.innerHTML = docLinkHtml;\n",
       "          element.appendChild(docLink);\n",
       "        }\n",
       "      </script>\n",
       "    </div>\n",
       "  </div>\n",
       "  "
      ],
      "text/plain": [
       "      0   1\n",
       "0  1076  19\n",
       "1    65   5"
      ]
     },
     "metadata": {},
     "output_type": "display_data"
    }
   ],
   "source": [
    "y_pred_v = np.round(bc_model_v.predict(X_test))\n",
    "pd.DataFrame(confusion_matrix(y_test, y_pred_v, labels=[0,1]))"
   ]
  }
 ],
 "metadata": {
  "language_info": {
   "name": "python"
  }
 },
 "nbformat": 4,
 "nbformat_minor": 2
}
