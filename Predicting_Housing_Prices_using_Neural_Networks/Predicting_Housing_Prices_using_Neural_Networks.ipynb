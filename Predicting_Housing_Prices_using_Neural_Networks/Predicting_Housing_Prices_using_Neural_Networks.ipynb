{
  "cells": [
    {
      "cell_type": "markdown",
      "metadata": {
        "id": "IUyIUZDu9V3h"
      },
      "source": [
        "<h1>\n",
        "<center>Predicting Housing Prices using Neural Networks</center>\n",
        "</h1>\n",
        "\n",
        "<h1>\n",
        "<center>Avery Lee</center>\n",
        "</h1>"
      ]
    },
    {
      "cell_type": "markdown",
      "metadata": {
        "id": "m-KOiOsz9V3l"
      },
      "source": [
        "# A regression MLP (Multilayer Perceptron)\n",
        "\n",
        "The following code does the preprocessing of the dataset, creating the training set `X_train`, `y_train`, the validation set `X_valid`, `y_valid` and the test set `X_test`, `y_test`. The target variable has been divided by 100,000."
      ]
    },
    {
      "cell_type": "code",
      "execution_count": 1,
      "metadata": {
        "id": "njx9JvNo9V3m"
      },
      "outputs": [],
      "source": [
        "import numpy as np\n",
        "import pandas as pd\n",
        "import tensorflow as tf\n",
        "import tensorflow.keras as keras\n",
        "import matplotlib.pyplot as plt"
      ]
    },
    {
      "cell_type": "code",
      "execution_count": 2,
      "metadata": {
        "id": "A4tSvjnq9V3n"
      },
      "outputs": [],
      "source": [
        "from sklearn.pipeline import Pipeline\n",
        "from sklearn.impute import SimpleImputer\n",
        "from sklearn.compose import ColumnTransformer\n",
        "from sklearn.preprocessing import StandardScaler, OneHotEncoder\n",
        "from sklearn.model_selection import StratifiedShuffleSplit\n",
        "\n",
        "import os\n",
        "import tarfile\n",
        "from six.moves import urllib\n",
        "\n",
        "HOUSING_PATH = os.path.join(\"datasets\", \"housing\")\n",
        "\n",
        "def fetch_housing_data(housing_url, housing_path=HOUSING_PATH):\n",
        "    if not os.path.isdir(housing_path):\n",
        "        os.makedirs(housing_path)\n",
        "    tgz_path = os.path.join(housing_path, \"housing.tgz\")\n",
        "    urllib.request.urlretrieve(housing_url, tgz_path)\n",
        "    housing_tgz = tarfile.open(tgz_path)\n",
        "    housing_tgz.extractall(path=housing_path)\n",
        "    housing_tgz.close()\n",
        "\n",
        "def load_housing_data(housing_path=HOUSING_PATH):\n",
        "    csv_path = os.path.join(housing_path, \"housing.csv\")\n",
        "    return pd.read_csv(csv_path)\n",
        "\n",
        "HOUSING_URL = (\"https://raw.githubusercontent.com/ageron/\"+\n",
        "               \"handson-ml2/master/datasets/housing/housing.tgz\")\n",
        "fetch_housing_data(HOUSING_URL)\n",
        "data = load_housing_data()\n",
        "\n",
        "data[\"income_cat\"] = np.ceil(data[\"median_income\"] / 1.5)\n",
        "data[\"income_cat\"].where(data[\"income_cat\"] < 5, 5.0, inplace=True)\n",
        "split = StratifiedShuffleSplit(n_splits=1, test_size=0.2, random_state=42)\n",
        "for train_index, test_index in split.split(data, data[\"income_cat\"]):\n",
        "    strat_train_set = data.loc[train_index]\n",
        "    strat_test_set = data.loc[test_index]\n",
        "    \n",
        "# Split the traning set into training and validation    \n",
        "split2 = StratifiedShuffleSplit(n_splits=1, test_size=0.2, random_state=42)\n",
        "for train_index2, valid_index in split2.split(strat_train_set, strat_train_set[\"income_cat\"]):\n",
        "    strat_train2_set = strat_train_set.iloc[train_index2]\n",
        "    strat_valid_set = strat_train_set.iloc[valid_index]\n",
        "    \n",
        "strat_train_set = strat_train2_set.copy().drop(\"income_cat\", axis=1)\n",
        "strat_valid_set = strat_valid_set.copy().drop(\"income_cat\", axis=1)\n",
        "strat_test_set = strat_test_set.copy().drop(\"income_cat\", axis=1)\n",
        "\n",
        "X_raw = strat_train_set.drop(\"median_house_value\", axis=1)\n",
        "y_train = strat_train_set[\"median_house_value\"].copy()/100000\n",
        "\n",
        "num_pipeline = Pipeline([\n",
        "        ('imputer', SimpleImputer(strategy=\"median\")),\n",
        "        ('std_scaler', StandardScaler()),\n",
        "    ])\n",
        "num_features = X_raw.drop(\"ocean_proximity\", axis=1)\n",
        "num_attribs = list(num_features)\n",
        "cat_attribs = [\"ocean_proximity\"]\n",
        "full_pipeline = ColumnTransformer([\n",
        "        (\"num\", num_pipeline, num_attribs),\n",
        "        (\"cat\", OneHotEncoder(), cat_attribs),\n",
        "    ])\n",
        "\n",
        "# Apply the pipeline to the training set\n",
        "X_train = full_pipeline.fit_transform(X_raw)\n",
        "\n",
        "# Apply the pipeline to the validation set\n",
        "X_valid_raw = strat_valid_set.drop(\"median_house_value\", axis=1)\n",
        "y_valid = strat_valid_set[\"median_house_value\"].copy()/100000\n",
        "X_valid = full_pipeline.transform(X_valid_raw)\n",
        "\n",
        "# Apply the pipeline to the validation set\n",
        "X_test_raw = strat_test_set.drop(\"median_house_value\", axis=1)\n",
        "y_test = strat_test_set[\"median_house_value\"].copy()/100000\n",
        "X_test = full_pipeline.transform(X_test_raw)"
      ]
    },
    {
      "cell_type": "code",
      "execution_count": 3,
      "metadata": {
        "colab": {
          "base_uri": "https://localhost:8080/"
        },
        "id": "WGjdQL_u9rYR",
        "outputId": "63c028eb-d925-465a-a07e-2d56dd87011f"
      },
      "outputs": [
        {
          "data": {
            "text/plain": [
              "((13209, 13), (3303, 13), (4128, 13))"
            ]
          },
          "execution_count": 3,
          "metadata": {},
          "output_type": "execute_result"
        }
      ],
      "source": [
        "X_train.shape, X_valid.shape, X_test.shape"
      ]
    },
    {
      "cell_type": "code",
      "execution_count": 4,
      "metadata": {
        "colab": {
          "base_uri": "https://localhost:8080/"
        },
        "id": "UFU6BQ21APU6",
        "outputId": "d7e234cd-8071-4f23-c3d3-70adc043b0c4"
      },
      "outputs": [
        {
          "data": {
            "text/plain": [
              "((13209,), (3303,), (4128,))"
            ]
          },
          "execution_count": 4,
          "metadata": {},
          "output_type": "execute_result"
        }
      ],
      "source": [
        "y_train.shape, y_valid.shape, y_test.shape"
      ]
    },
    {
      "cell_type": "markdown",
      "metadata": {
        "id": "ljrvcRE29V3p"
      },
      "source": [
        "Use `tensorflow.keras` to train a regression MLP with one hidden layer of 50 ReLU neurons. For the output layer, try both a ReLU activation function and no activation function (which is equivalent to the identity function). Use the Nadam optimizer. Train for 30 epochs, and report the mean squared error on the validation set."
      ]
    },
    {
      "cell_type": "markdown",
      "metadata": {
        "id": "fc5RJFUqHFjZ"
      },
      "source": [
        "Based on the test MSEs, it seems that the identity is doing better than ReLU since it has lower MSE. "
      ]
    },
    {
      "cell_type": "code",
      "execution_count": 5,
      "metadata": {
        "colab": {
          "base_uri": "https://localhost:8080/"
        },
        "id": "u2KUQzjM9z26",
        "outputId": "ab625f76-5bbb-40bb-adb5-f8333a207d06"
      },
      "outputs": [
        {
          "data": {
            "text/plain": [
              "<keras.callbacks.History at 0x7fd7b8980ad0>"
            ]
          },
          "execution_count": 5,
          "metadata": {},
          "output_type": "execute_result"
        }
      ],
      "source": [
        "from tensorflow.keras import Sequential, layers\n",
        "\n",
        "np.random.seed(42)\n",
        "tf.random.set_seed(42)\n",
        "\n",
        "# Output layer: ReLU\n",
        "mlp_relu = Sequential([\n",
        "    layers.Flatten(input_shape=X_train.shape[1:]),\n",
        "    layers.Dense(50, activation=\"relu\", kernel_initializer='he_normal'),\n",
        "    layers.Dense(1, activation='relu')\n",
        "])\n",
        "\n",
        "mlp_relu.compile(optimizer='nadam',\n",
        "                 loss='mse')\n",
        "\n",
        "mlp_relu.fit(X_train, y_train, epochs=30, \n",
        "             verbose=0, validation_data=(X_valid, y_valid))\n",
        "\n",
        "# Output layer: No activation function (identity function)\n",
        "mlp_identity = Sequential([\n",
        "    layers.Flatten(input_shape=X_train.shape[1:]),\n",
        "    layers.Dense(50, activation=\"relu\", kernel_initializer='he_normal'),\n",
        "    layers.Dense(1)\n",
        "])\n",
        "\n",
        "mlp_identity.compile(optimizer='nadam',\n",
        "                     loss='mse')\n",
        "\n",
        "mlp_identity.fit(X_train, y_train, epochs=30,\n",
        "                 verbose=0, validation_data=(X_valid, y_valid))"
      ]
    },
    {
      "cell_type": "code",
      "execution_count": 6,
      "metadata": {
        "colab": {
          "base_uri": "https://localhost:8080/"
        },
        "id": "ndGLSO8OEJH6",
        "outputId": "f358a253-29a6-4a9c-8ba3-f20c722a4345"
      },
      "outputs": [
        {
          "name": "stdout",
          "output_type": "stream",
          "text": [
            "104/104 [==============================] - 0s 2ms/step - loss: 0.3395\n",
            "104/104 [==============================] - 0s 1ms/step - loss: 0.3372\n",
            "ReLU: 0.33948585391044617, Identity: 0.3372444212436676\n"
          ]
        }
      ],
      "source": [
        "# Accuracies \n",
        "relu_mse = mlp_relu.evaluate(X_valid, y_valid)\n",
        "identity_mse = mlp_identity.evaluate(X_valid, y_valid)\n",
        "print(f'ReLU: {relu_mse}, Identity: {identity_mse}')"
      ]
    },
    {
      "cell_type": "markdown",
      "metadata": {
        "id": "ZvhMt14V9V3q"
      },
      "source": [
        "Use a randomized search to search for the best number of hidden layers, neurons per hidden layer, and learning rate. For the randomized search use 3-fold CV, with 10 iterations, with the number of hidden layers uniformly sampled from $\\{0,1,2,3\\}$, the number of neurons per layer uniformly from $\\{1,2,\\dots,100\\}$, and the learning rate from the distribution `reciprocal(3e-4, 3e-2)`. Use early stopping with `patience=10`."
      ]
    },
    {
      "cell_type": "markdown",
      "metadata": {},
      "source": [
        "We were able to find that the best hyperparameters are 'learning_rate': 0.0059640580092043885, 'n_hidden': 3, and 'n_neurons': 80"
      ]
    },
    {
      "cell_type": "code",
      "execution_count": 7,
      "metadata": {
        "id": "U0BQJa3BHOX-"
      },
      "outputs": [],
      "source": [
        "from scipy.stats import reciprocal\n",
        "from sklearn.model_selection import RandomizedSearchCV\n",
        "\n",
        "def build_model(n_hidden=1, n_neurons=50, learning_rate=0.001, input_shape=X_train.shape[1]):\n",
        "    model = keras.models.Sequential()\n",
        "    model.add(keras.layers.InputLayer(input_shape=input_shape))\n",
        "    for layer in range(n_hidden):\n",
        "        model.add(keras.layers.Dense(n_neurons, \n",
        "                                     activation=\"relu\", \n",
        "                                     kernel_initializer='he_normal'))\n",
        "    model.add(keras.layers.Dense(1))\n",
        "    optimizer = keras.optimizers.Nadam(learning_rate=learning_rate)\n",
        "    model.compile(loss=\"mse\", optimizer=optimizer)\n",
        "    return model"
      ]
    },
    {
      "cell_type": "code",
      "execution_count": 8,
      "metadata": {
        "colab": {
          "base_uri": "https://localhost:8080/"
        },
        "id": "_76kwtfING5R",
        "outputId": "59c5cd36-fa60-43f3-fb85-1129eb70aeb4"
      },
      "outputs": [
        {
          "name": "stderr",
          "output_type": "stream",
          "text": [
            "/usr/local/lib/python3.7/dist-packages/ipykernel_launcher.py:1: DeprecationWarning: KerasRegressor is deprecated, use Sci-Keras (https://github.com/adriangb/scikeras) instead. See https://www.adriangb.com/scikeras/stable/migration.html for help migrating.\n",
            "  \"\"\"Entry point for launching an IPython kernel.\n"
          ]
        },
        {
          "name": "stdout",
          "output_type": "stream",
          "text": [
            "Fitting 3 folds for each of 10 candidates, totalling 30 fits\n",
            "138/138 [==============================] - 0s 1ms/step - loss: 0.4263\n",
            "[CV] END learning_rate=0.022174573948353458, n_hidden=1, n_neurons=4; total time=  15.6s\n",
            "138/138 [==============================] - 0s 2ms/step - loss: 0.4495\n",
            "[CV] END learning_rate=0.022174573948353458, n_hidden=1, n_neurons=4; total time=  21.5s\n",
            "138/138 [==============================] - 0s 1ms/step - loss: 0.4044\n",
            "[CV] END learning_rate=0.022174573948353458, n_hidden=1, n_neurons=4; total time=  21.5s\n",
            "138/138 [==============================] - 0s 2ms/step - loss: 0.2937\n",
            "[CV] END learning_rate=0.005432590230265343, n_hidden=2, n_neurons=94; total time=  21.6s\n",
            "138/138 [==============================] - 0s 2ms/step - loss: 0.3189\n",
            "[CV] END learning_rate=0.005432590230265343, n_hidden=2, n_neurons=94; total time=  21.6s\n",
            "138/138 [==============================] - 0s 2ms/step - loss: 0.3026\n",
            "[CV] END learning_rate=0.005432590230265343, n_hidden=2, n_neurons=94; total time=  21.7s\n",
            "138/138 [==============================] - 0s 1ms/step - loss: 0.3651\n",
            "[CV] END learning_rate=0.00037078874137762145, n_hidden=1, n_neurons=51; total time=  15.9s\n",
            "138/138 [==============================] - 0s 1ms/step - loss: 0.3723\n",
            "[CV] END learning_rate=0.00037078874137762145, n_hidden=1, n_neurons=51; total time=  16.0s\n",
            "138/138 [==============================] - 0s 2ms/step - loss: 0.3695\n",
            "[CV] END learning_rate=0.00037078874137762145, n_hidden=1, n_neurons=51; total time=  17.1s\n",
            "138/138 [==============================] - 0s 2ms/step - loss: 0.3115\n",
            "[CV] END learning_rate=0.0016535051383872363, n_hidden=2, n_neurons=70; total time=  21.6s\n",
            "138/138 [==============================] - 0s 1ms/step - loss: 0.3286\n",
            "[CV] END learning_rate=0.0016535051383872363, n_hidden=2, n_neurons=70; total time=  17.7s\n",
            "138/138 [==============================] - 0s 2ms/step - loss: 0.3028\n",
            "[CV] END learning_rate=0.0016535051383872363, n_hidden=2, n_neurons=70; total time=  21.7s\n",
            "138/138 [==============================] - 0s 1ms/step - loss: 0.4874\n",
            "[CV] END learning_rate=0.01824796188192035, n_hidden=0, n_neurons=40; total time=   7.4s\n",
            "138/138 [==============================] - 0s 1ms/step - loss: 0.5014\n",
            "[CV] END learning_rate=0.01824796188192035, n_hidden=0, n_neurons=40; total time=  11.1s\n",
            "138/138 [==============================] - 0s 1ms/step - loss: 0.4847\n",
            "[CV] END learning_rate=0.01824796188192035, n_hidden=0, n_neurons=40; total time=  13.3s\n",
            "138/138 [==============================] - 0s 1ms/step - loss: 0.3083\n",
            "[CV] END learning_rate=0.0045455096956331, n_hidden=3, n_neurons=30; total time=  21.8s\n",
            "138/138 [==============================] - 0s 2ms/step - loss: 0.3226\n",
            "[CV] END learning_rate=0.0045455096956331, n_hidden=3, n_neurons=30; total time=  21.9s\n",
            "138/138 [==============================] - 0s 1ms/step - loss: 0.3101\n",
            "[CV] END learning_rate=0.0045455096956331, n_hidden=3, n_neurons=30; total time=  21.8s\n",
            "138/138 [==============================] - 0s 2ms/step - loss: 0.3332\n",
            "[CV] END learning_rate=0.0020587676114196545, n_hidden=1, n_neurons=49; total time=  15.8s\n",
            "138/138 [==============================] - 0s 1ms/step - loss: 0.3457\n",
            "[CV] END learning_rate=0.0020587676114196545, n_hidden=1, n_neurons=49; total time=  21.5s\n",
            "138/138 [==============================] - 0s 1ms/step - loss: 0.3167\n",
            "[CV] END learning_rate=0.0020587676114196545, n_hidden=1, n_neurons=49; total time=  15.5s\n",
            "138/138 [==============================] - 0s 1ms/step - loss: 0.2899\n",
            "[CV] END learning_rate=0.005803602934201024, n_hidden=3, n_neurons=74; total time=  19.4s\n",
            "138/138 [==============================] - 0s 1ms/step - loss: 0.3180\n",
            "[CV] END learning_rate=0.005803602934201024, n_hidden=3, n_neurons=74; total time=  16.3s\n",
            "138/138 [==============================] - 0s 1ms/step - loss: 0.3134\n",
            "[CV] END learning_rate=0.005803602934201024, n_hidden=3, n_neurons=74; total time=  21.7s\n",
            "138/138 [==============================] - 0s 1ms/step - loss: 0.2881\n",
            "[CV] END learning_rate=0.0059640580092043885, n_hidden=3, n_neurons=80; total time=  18.8s\n",
            "138/138 [==============================] - 0s 1ms/step - loss: 0.3070\n",
            "[CV] END learning_rate=0.0059640580092043885, n_hidden=3, n_neurons=80; total time=  19.9s\n",
            "138/138 [==============================] - 0s 1ms/step - loss: 0.2974\n",
            "[CV] END learning_rate=0.0059640580092043885, n_hidden=3, n_neurons=80; total time=  15.2s\n",
            "138/138 [==============================] - 0s 2ms/step - loss: 0.2942\n",
            "[CV] END learning_rate=0.004591455636549438, n_hidden=2, n_neurons=59; total time=  21.7s\n",
            "138/138 [==============================] - 0s 1ms/step - loss: 0.3169\n",
            "[CV] END learning_rate=0.004591455636549438, n_hidden=2, n_neurons=59; total time=  21.7s\n",
            "138/138 [==============================] - 0s 1ms/step - loss: 0.2992\n",
            "[CV] END learning_rate=0.004591455636549438, n_hidden=2, n_neurons=59; total time=  22.1s\n"
          ]
        },
        {
          "data": {
            "text/plain": [
              "RandomizedSearchCV(cv=3,\n",
              "                   estimator=<keras.wrappers.scikit_learn.KerasRegressor object at 0x7fd7b87fa150>,\n",
              "                   param_distributions={'learning_rate': [0.001683454924600351,\n",
              "                                                          0.02390836445593178,\n",
              "                                                          0.008731907739399206,\n",
              "                                                          0.004725396149933917,\n",
              "                                                          0.0006154014789262348,\n",
              "                                                          0.0006153331256530192,\n",
              "                                                          0.0003920021771415983,\n",
              "                                                          0.01619845322936229,\n",
              "                                                          0.004779156784872302,\n",
              "                                                          0.007821074275112298,...\n",
              "                                                          0.005021425736625637,\n",
              "                                                          0.0005703073595961105,\n",
              "                                                          0.001151888789941251,\n",
              "                                                          0.001621231156394198,\n",
              "                                                          0.0024505367684280487,\n",
              "                                                          0.011155092541719619,\n",
              "                                                          0.0007524347058135697,\n",
              "                                                          0.0032032448128444043,\n",
              "                                                          0.004591455636549438,\n",
              "                                                          0.0003715541189658278, ...],\n",
              "                                        'n_hidden': [0, 1, 2, 3],\n",
              "                                        'n_neurons': [1, 2, 3, 4, 5, 6, 7, 8, 9,\n",
              "                                                      10, 11, 12, 13, 14, 15,\n",
              "                                                      16, 17, 18, 19, 20, 21,\n",
              "                                                      22, 23, 24, 25, 26, 27,\n",
              "                                                      28, 29, 30, ...]},\n",
              "                   verbose=2)"
            ]
          },
          "execution_count": 8,
          "metadata": {},
          "output_type": "execute_result"
        }
      ],
      "source": [
        "keras_reg = keras.wrappers.scikit_learn.KerasRegressor(build_model)\n",
        "\n",
        "keras_reg.fit(X_train, y_train, epochs=30,\n",
        "              validation_data=(X_valid, y_valid), verbose = 0, \n",
        "              callbacks=[keras.callbacks.EarlyStopping(patience=10)])\n",
        "\n",
        "param_distribs = {\n",
        "    \"n_hidden\": [0, 1, 2, 3],\n",
        "    \"n_neurons\": np.arange(1, 100).tolist(),\n",
        "    \"learning_rate\": reciprocal(3e-4, 3e-2).rvs(1000).tolist(),\n",
        "}\n",
        "\n",
        "rnd_search_cv = RandomizedSearchCV(keras_reg, param_distribs, n_iter=10, cv=3, verbose=2)\n",
        "rnd_search_cv.fit(X_train, y_train, epochs=30,\n",
        "                  validation_data=(X_valid, y_valid), verbose=0,\n",
        "                  callbacks=[keras.callbacks.EarlyStopping(patience=10)])"
      ]
    },
    {
      "cell_type": "code",
      "execution_count": 9,
      "metadata": {
        "colab": {
          "base_uri": "https://localhost:8080/"
        },
        "id": "Y_BTW1eoR6qP",
        "outputId": "d9e1ec2a-44a8-4a3c-ff4d-6dfd7e16c8c9"
      },
      "outputs": [
        {
          "data": {
            "text/plain": [
              "{'learning_rate': 0.0059640580092043885, 'n_hidden': 3, 'n_neurons': 80}"
            ]
          },
          "execution_count": 9,
          "metadata": {},
          "output_type": "execute_result"
        }
      ],
      "source": [
        "bestparams = rnd_search_cv.best_params_\n",
        "bestparams"
      ]
    },
    {
      "cell_type": "markdown",
      "metadata": {
        "id": "NmUcquCo9V3r"
      },
      "source": [
        "Now let's plot the learning curves for the model with the best parameters found above."
      ]
    },
    {
      "cell_type": "markdown",
      "metadata": {
        "id": "PyHp1LXOWYLW"
      },
      "source": [
        "It doesnt seem like there is extreme overfitting since the validation error is still pretty low and the training error doesn't go down too much. However, the validation error is still a small bit higher than the training error so it is good to be careful for overfitting. "
      ]
    },
    {
      "cell_type": "code",
      "execution_count": 10,
      "metadata": {
        "colab": {
          "base_uri": "https://localhost:8080/",
          "height": 990
        },
        "id": "QYjZfrBHQWWV",
        "outputId": "dad56fd4-d06e-4944-aee7-824b18295bab"
      },
      "outputs": [
        {
          "data": {
            "text/html": [
              "\n",
              "  <div id=\"df-73af0ee0-24ba-41bb-9203-80f253706b0b\">\n",
              "    <div class=\"colab-df-container\">\n",
              "      <div>\n",
              "<style scoped>\n",
              "    .dataframe tbody tr th:only-of-type {\n",
              "        vertical-align: middle;\n",
              "    }\n",
              "\n",
              "    .dataframe tbody tr th {\n",
              "        vertical-align: top;\n",
              "    }\n",
              "\n",
              "    .dataframe thead th {\n",
              "        text-align: right;\n",
              "    }\n",
              "</style>\n",
              "<table border=\"1\" class=\"dataframe\">\n",
              "  <thead>\n",
              "    <tr style=\"text-align: right;\">\n",
              "      <th></th>\n",
              "      <th>loss</th>\n",
              "      <th>val_loss</th>\n",
              "    </tr>\n",
              "  </thead>\n",
              "  <tbody>\n",
              "    <tr>\n",
              "      <th>0</th>\n",
              "      <td>0.519379</td>\n",
              "      <td>0.675354</td>\n",
              "    </tr>\n",
              "    <tr>\n",
              "      <th>1</th>\n",
              "      <td>0.371359</td>\n",
              "      <td>0.345894</td>\n",
              "    </tr>\n",
              "    <tr>\n",
              "      <th>2</th>\n",
              "      <td>0.339529</td>\n",
              "      <td>0.324513</td>\n",
              "    </tr>\n",
              "    <tr>\n",
              "      <th>3</th>\n",
              "      <td>0.334520</td>\n",
              "      <td>0.345825</td>\n",
              "    </tr>\n",
              "    <tr>\n",
              "      <th>4</th>\n",
              "      <td>0.327362</td>\n",
              "      <td>0.331901</td>\n",
              "    </tr>\n",
              "    <tr>\n",
              "      <th>5</th>\n",
              "      <td>0.314253</td>\n",
              "      <td>0.325867</td>\n",
              "    </tr>\n",
              "    <tr>\n",
              "      <th>6</th>\n",
              "      <td>0.307409</td>\n",
              "      <td>0.335290</td>\n",
              "    </tr>\n",
              "    <tr>\n",
              "      <th>7</th>\n",
              "      <td>0.302465</td>\n",
              "      <td>0.397743</td>\n",
              "    </tr>\n",
              "    <tr>\n",
              "      <th>8</th>\n",
              "      <td>0.298539</td>\n",
              "      <td>0.326447</td>\n",
              "    </tr>\n",
              "    <tr>\n",
              "      <th>9</th>\n",
              "      <td>0.297323</td>\n",
              "      <td>0.333232</td>\n",
              "    </tr>\n",
              "    <tr>\n",
              "      <th>10</th>\n",
              "      <td>0.288417</td>\n",
              "      <td>0.300575</td>\n",
              "    </tr>\n",
              "    <tr>\n",
              "      <th>11</th>\n",
              "      <td>0.287455</td>\n",
              "      <td>0.298994</td>\n",
              "    </tr>\n",
              "    <tr>\n",
              "      <th>12</th>\n",
              "      <td>0.281205</td>\n",
              "      <td>0.314820</td>\n",
              "    </tr>\n",
              "    <tr>\n",
              "      <th>13</th>\n",
              "      <td>0.282975</td>\n",
              "      <td>0.302395</td>\n",
              "    </tr>\n",
              "    <tr>\n",
              "      <th>14</th>\n",
              "      <td>0.277763</td>\n",
              "      <td>0.303781</td>\n",
              "    </tr>\n",
              "    <tr>\n",
              "      <th>15</th>\n",
              "      <td>0.273436</td>\n",
              "      <td>0.292081</td>\n",
              "    </tr>\n",
              "    <tr>\n",
              "      <th>16</th>\n",
              "      <td>0.270167</td>\n",
              "      <td>0.298932</td>\n",
              "    </tr>\n",
              "    <tr>\n",
              "      <th>17</th>\n",
              "      <td>0.267035</td>\n",
              "      <td>0.287212</td>\n",
              "    </tr>\n",
              "    <tr>\n",
              "      <th>18</th>\n",
              "      <td>0.265924</td>\n",
              "      <td>0.284994</td>\n",
              "    </tr>\n",
              "    <tr>\n",
              "      <th>19</th>\n",
              "      <td>0.265832</td>\n",
              "      <td>0.284970</td>\n",
              "    </tr>\n",
              "    <tr>\n",
              "      <th>20</th>\n",
              "      <td>0.261614</td>\n",
              "      <td>0.284461</td>\n",
              "    </tr>\n",
              "    <tr>\n",
              "      <th>21</th>\n",
              "      <td>0.260707</td>\n",
              "      <td>0.283348</td>\n",
              "    </tr>\n",
              "    <tr>\n",
              "      <th>22</th>\n",
              "      <td>0.258479</td>\n",
              "      <td>0.297651</td>\n",
              "    </tr>\n",
              "    <tr>\n",
              "      <th>23</th>\n",
              "      <td>0.256814</td>\n",
              "      <td>0.293585</td>\n",
              "    </tr>\n",
              "    <tr>\n",
              "      <th>24</th>\n",
              "      <td>0.249701</td>\n",
              "      <td>0.314237</td>\n",
              "    </tr>\n",
              "    <tr>\n",
              "      <th>25</th>\n",
              "      <td>0.253860</td>\n",
              "      <td>0.303277</td>\n",
              "    </tr>\n",
              "    <tr>\n",
              "      <th>26</th>\n",
              "      <td>0.248291</td>\n",
              "      <td>0.295714</td>\n",
              "    </tr>\n",
              "    <tr>\n",
              "      <th>27</th>\n",
              "      <td>0.246129</td>\n",
              "      <td>0.302435</td>\n",
              "    </tr>\n",
              "    <tr>\n",
              "      <th>28</th>\n",
              "      <td>0.247280</td>\n",
              "      <td>0.286816</td>\n",
              "    </tr>\n",
              "    <tr>\n",
              "      <th>29</th>\n",
              "      <td>0.244103</td>\n",
              "      <td>0.293738</td>\n",
              "    </tr>\n",
              "  </tbody>\n",
              "</table>\n",
              "</div>\n",
              "      <button class=\"colab-df-convert\" onclick=\"convertToInteractive('df-73af0ee0-24ba-41bb-9203-80f253706b0b')\"\n",
              "              title=\"Convert this dataframe to an interactive table.\"\n",
              "              style=\"display:none;\">\n",
              "        \n",
              "  <svg xmlns=\"http://www.w3.org/2000/svg\" height=\"24px\"viewBox=\"0 0 24 24\"\n",
              "       width=\"24px\">\n",
              "    <path d=\"M0 0h24v24H0V0z\" fill=\"none\"/>\n",
              "    <path d=\"M18.56 5.44l.94 2.06.94-2.06 2.06-.94-2.06-.94-.94-2.06-.94 2.06-2.06.94zm-11 1L8.5 8.5l.94-2.06 2.06-.94-2.06-.94L8.5 2.5l-.94 2.06-2.06.94zm10 10l.94 2.06.94-2.06 2.06-.94-2.06-.94-.94-2.06-.94 2.06-2.06.94z\"/><path d=\"M17.41 7.96l-1.37-1.37c-.4-.4-.92-.59-1.43-.59-.52 0-1.04.2-1.43.59L10.3 9.45l-7.72 7.72c-.78.78-.78 2.05 0 2.83L4 21.41c.39.39.9.59 1.41.59.51 0 1.02-.2 1.41-.59l7.78-7.78 2.81-2.81c.8-.78.8-2.07 0-2.86zM5.41 20L4 18.59l7.72-7.72 1.47 1.35L5.41 20z\"/>\n",
              "  </svg>\n",
              "      </button>\n",
              "      \n",
              "  <style>\n",
              "    .colab-df-container {\n",
              "      display:flex;\n",
              "      flex-wrap:wrap;\n",
              "      gap: 12px;\n",
              "    }\n",
              "\n",
              "    .colab-df-convert {\n",
              "      background-color: #E8F0FE;\n",
              "      border: none;\n",
              "      border-radius: 50%;\n",
              "      cursor: pointer;\n",
              "      display: none;\n",
              "      fill: #1967D2;\n",
              "      height: 32px;\n",
              "      padding: 0 0 0 0;\n",
              "      width: 32px;\n",
              "    }\n",
              "\n",
              "    .colab-df-convert:hover {\n",
              "      background-color: #E2EBFA;\n",
              "      box-shadow: 0px 1px 2px rgba(60, 64, 67, 0.3), 0px 1px 3px 1px rgba(60, 64, 67, 0.15);\n",
              "      fill: #174EA6;\n",
              "    }\n",
              "\n",
              "    [theme=dark] .colab-df-convert {\n",
              "      background-color: #3B4455;\n",
              "      fill: #D2E3FC;\n",
              "    }\n",
              "\n",
              "    [theme=dark] .colab-df-convert:hover {\n",
              "      background-color: #434B5C;\n",
              "      box-shadow: 0px 1px 3px 1px rgba(0, 0, 0, 0.15);\n",
              "      filter: drop-shadow(0px 1px 2px rgba(0, 0, 0, 0.3));\n",
              "      fill: #FFFFFF;\n",
              "    }\n",
              "  </style>\n",
              "\n",
              "      <script>\n",
              "        const buttonEl =\n",
              "          document.querySelector('#df-73af0ee0-24ba-41bb-9203-80f253706b0b button.colab-df-convert');\n",
              "        buttonEl.style.display =\n",
              "          google.colab.kernel.accessAllowed ? 'block' : 'none';\n",
              "\n",
              "        async function convertToInteractive(key) {\n",
              "          const element = document.querySelector('#df-73af0ee0-24ba-41bb-9203-80f253706b0b');\n",
              "          const dataTable =\n",
              "            await google.colab.kernel.invokeFunction('convertToInteractive',\n",
              "                                                     [key], {});\n",
              "          if (!dataTable) return;\n",
              "\n",
              "          const docLinkHtml = 'Like what you see? Visit the ' +\n",
              "            '<a target=\"_blank\" href=https://colab.research.google.com/notebooks/data_table.ipynb>data table notebook</a>'\n",
              "            + ' to learn more about interactive tables.';\n",
              "          element.innerHTML = '';\n",
              "          dataTable['output_type'] = 'display_data';\n",
              "          await google.colab.output.renderOutput(dataTable, element);\n",
              "          const docLink = document.createElement('div');\n",
              "          docLink.innerHTML = docLinkHtml;\n",
              "          element.appendChild(docLink);\n",
              "        }\n",
              "      </script>\n",
              "    </div>\n",
              "  </div>\n",
              "  "
            ],
            "text/plain": [
              "        loss  val_loss\n",
              "0   0.519379  0.675354\n",
              "1   0.371359  0.345894\n",
              "2   0.339529  0.324513\n",
              "3   0.334520  0.345825\n",
              "4   0.327362  0.331901\n",
              "5   0.314253  0.325867\n",
              "6   0.307409  0.335290\n",
              "7   0.302465  0.397743\n",
              "8   0.298539  0.326447\n",
              "9   0.297323  0.333232\n",
              "10  0.288417  0.300575\n",
              "11  0.287455  0.298994\n",
              "12  0.281205  0.314820\n",
              "13  0.282975  0.302395\n",
              "14  0.277763  0.303781\n",
              "15  0.273436  0.292081\n",
              "16  0.270167  0.298932\n",
              "17  0.267035  0.287212\n",
              "18  0.265924  0.284994\n",
              "19  0.265832  0.284970\n",
              "20  0.261614  0.284461\n",
              "21  0.260707  0.283348\n",
              "22  0.258479  0.297651\n",
              "23  0.256814  0.293585\n",
              "24  0.249701  0.314237\n",
              "25  0.253860  0.303277\n",
              "26  0.248291  0.295714\n",
              "27  0.246129  0.302435\n",
              "28  0.247280  0.286816\n",
              "29  0.244103  0.293738"
            ]
          },
          "execution_count": 10,
          "metadata": {},
          "output_type": "execute_result"
        }
      ],
      "source": [
        "# best model found in 1b\n",
        "model = rnd_search_cv.best_estimator_.model\n",
        "model_df = pd.DataFrame(model.history.history)\n",
        "model_df"
      ]
    },
    {
      "cell_type": "code",
      "execution_count": 11,
      "metadata": {
        "colab": {
          "base_uri": "https://localhost:8080/",
          "height": 320
        },
        "id": "FJFNes0oU0fG",
        "outputId": "e9308911-ab80-42a9-f8e9-56bb9c5d2131"
      },
      "outputs": [
        {
          "data": {
            "image/png": "[encoded data removed]",
            "text/plain": [
              "<Figure size 576x360 with 1 Axes>"
            ]
          },
          "metadata": {
            "needs_background": "light"
          },
          "output_type": "display_data"
        }
      ],
      "source": [
        "model_df.plot(figsize=(8,5))\n",
        "plt.grid(True)\n",
        "plt.show()"
      ]
    }
  ],
  "metadata": {
    "colab": {
      "collapsed_sections": [],
      "name": "Homework4.ipynb",
      "provenance": []
    },
    "hide_input": false,
    "kernelspec": {
      "display_name": "Python 3 (ipykernel)",
      "language": "python",
      "name": "python3"
    },
    "language_info": {
      "codemirror_mode": {
        "name": "ipython",
        "version": 3
      },
      "file_extension": ".py",
      "mimetype": "text/x-python",
      "name": "python",
      "nbconvert_exporter": "python",
      "pygments_lexer": "ipython3",
      "version": "3.9.7"
    },
    "latex_envs": {
      "LaTeX_envs_menu_present": true,
      "autoclose": false,
      "autocomplete": false,
      "bibliofile": "biblio.bib",
      "cite_by": "apalike",
      "current_citInitial": 1,
      "eqLabelWithNumbers": true,
      "eqNumInitial": 1,
      "hotkeys": {
        "equation": "Ctrl-E",
        "itemize": "Ctrl-I"
      },
      "labels_anchors": false,
      "latex_user_defs": false,
      "report_style_numbering": false,
      "user_envs_cfg": false
    },
    "toc": {
      "base_numbering": 1,
      "nav_menu": {},
      "number_sections": false,
      "sideBar": true,
      "skip_h1_title": false,
      "title_cell": "Table of Contents",
      "title_sidebar": "Contents",
      "toc_cell": false,
      "toc_position": {},
      "toc_section_display": true,
      "toc_window_display": false
    },
    "varInspector": {
      "cols": {
        "lenName": 16,
        "lenType": 16,
        "lenVar": 40
      },
      "kernels_config": {
        "python": {
          "delete_cmd_postfix": "",
          "delete_cmd_prefix": "del ",
          "library": "var_list.py",
          "varRefreshCmd": "print(var_dic_list())"
        },
        "r": {
          "delete_cmd_postfix": ") ",
          "delete_cmd_prefix": "rm(",
          "library": "var_list.r",
          "varRefreshCmd": "cat(var_dic_list()) "
        }
      },
      "types_to_exclude": [
        "module",
        "function",
        "builtin_function_or_method",
        "instance",
        "_Feature"
      ],
      "window_display": false
    }
  },
  "nbformat": 4,
  "nbformat_minor": 0
}
